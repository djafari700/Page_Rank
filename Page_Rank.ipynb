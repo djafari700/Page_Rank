{
  "nbformat": 4,
  "nbformat_minor": 0,
  "metadata": {
    "colab": {
      "provenance": [],
      "authorship_tag": "ABX9TyPCJFfZJysDhkyGhKtzIJl7",
      "include_colab_link": true
    },
    "kernelspec": {
      "name": "python3",
      "display_name": "Python 3"
    },
    "language_info": {
      "name": "python"
    }
  },
  "cells": [
    {
      "cell_type": "markdown",
      "metadata": {
        "id": "view-in-github",
        "colab_type": "text"
      },
      "source": [
        "<a href=\"https://colab.research.google.com/github/djafari700/Page_Rank/blob/main/Page_Rank.ipynb\" target=\"_parent\"><img src=\"https://colab.research.google.com/assets/colab-badge.svg\" alt=\"Open In Colab\"/></a>"
      ]
    },
    {
      "cell_type": "markdown",
      "source": [
        "#Page Rank\n",
        "1. Load the graph (located in the data folder)\n",
        "2. Perform Page rank algorithm"
      ],
      "metadata": {
        "id": "PE6rpGqjjyhv"
      }
    },
    {
      "cell_type": "code",
      "execution_count": 25,
      "metadata": {
        "colab": {
          "base_uri": "https://localhost:8080/"
        },
        "id": "Q15jmoI7g6bo",
        "outputId": "681802f8-0036-4d85-cf27-fa442717069e"
      },
      "outputs": [
        {
          "output_type": "stream",
          "name": "stdout",
          "text": [
            "Drive already mounted at /content/drive; to attempt to forcibly remount, call drive.mount(\"/content/drive\", force_remount=True).\n",
            "[('A', 'B'), ('A', 'C'), ('B', 'A'), ('C', 'D'), ('D', 'E'), ('E', 'B'), ('E', 'F'), ('F', 'D'), ('F', 'G'), ('G', 'C'), ('G', 'E'), ('H', 'F'), ('H', 'G'), ('H', 'I'), ('I', 'E'), ('I', 'H'), ('J', 'K'), ('J', 'L'), ('K', 'M'), ('L', 'N'), ('M', 'J'), ('M', 'O'), ('N', 'P'), ('O', 'Q'), ('P', 'R'), ('Q', 'R'), ('Q', 'O'), ('R', 'P'), ('R', 'S'), ('S', 'T'), ('S', 'U'), ('T', 'V'), ('U', 'T'), ('U', 'V'), ('V', 'S'), ('V', 'W'), ('W', 'X'), ('W', 'Y'), ('X', 'Z'), ('Y', 'X'), ('Z', 'Y'), ('Z', 'A'), ('A', 'J'), ('A', 'M'), ('B', 'K'), ('B', 'N'), ('C', 'L'), ('C', 'O'), ('D', 'P'), ('D', 'Q'), ('E', 'R'), ('E', 'S'), ('F', 'T'), ('F', 'U'), ('G', 'V'), ('G', 'W'), ('H', 'X'), ('H', 'Y'), ('I', 'Z'), ('I', 'A')]\n"
          ]
        }
      ],
      "source": [
        "# 1. Load the graph (located in the data folder)\n",
        "from google.colab import drive\n",
        "\n",
        "# Mount Google Drive\n",
        "drive.mount('/content/drive')\n",
        "\n",
        "file_path = '/content/drive/MyDrive/Data/Data_input_graph/input_graph.txt'\n",
        "\n",
        "# Read the contents of the file\n",
        "with open(file_path, 'r') as file:\n",
        "    file_contents = file.read()\n",
        "\n",
        "input_graph = file_contents\n",
        "\n",
        "# Split the input graph into lines\n",
        "lines = input_graph.split(\"\\n\")\n",
        "\n",
        "# Convert lines into a list of tuples\n",
        "graph = [tuple(line.split(\" -> \")) for line in lines]\n",
        "\n",
        "print(graph)\n"
      ]
    },
    {
      "cell_type": "code",
      "source": [
        "def pagerank(graph, damping_factor=0.85, max_iterations=100, tolerance=1e-6):\n",
        "    # Create a dictionary to store the outgoing links for each node\n",
        "    outgoing_links = {}\n",
        "\n",
        "    # Populate the outgoing_links dictionary\n",
        "    for edge in graph:\n",
        "        source, target = edge\n",
        "        if source not in outgoing_links:\n",
        "            outgoing_links[source] = []\n",
        "        outgoing_links[source].append(target)\n",
        "\n",
        "    # Get the total number of nodes in the graph\n",
        "    num_nodes = len(outgoing_links)\n",
        "\n",
        "    # Initialize the PageRank scores\n",
        "    pagerank_scores = {node: 1 / num_nodes for node in outgoing_links}\n",
        "\n",
        "    for _ in range(max_iterations):\n",
        "        new_scores = {}\n",
        "\n",
        "        # Calculate the PageRank contribution from incoming nodes\n",
        "        for node in outgoing_links:\n",
        "            incoming_nodes = [n for n in outgoing_links if node in outgoing_links[n]]\n",
        "            pr_contribution = sum(pagerank_scores[incoming_node] / len(outgoing_links[incoming_node]) for incoming_node in incoming_nodes)\n",
        "            new_scores[node] = (1 - damping_factor) / num_nodes + damping_factor * pr_contribution\n",
        "\n",
        "        # Check convergence\n",
        "        diff = sum(abs(new_scores[node] - pagerank_scores[node]) for node in outgoing_links)\n",
        "        if diff < tolerance:\n",
        "            break\n",
        "\n",
        "        pagerank_scores = new_scores\n",
        "\n",
        "    return pagerank_scores\n",
        "\n",
        "# Compute the PageRank scores\n",
        "pagerank_scores = pagerank(graph)\n",
        "\n",
        "# Print the PageRank scores\n",
        "for node, score in pagerank_scores.items():\n",
        "    print(f\"Node: {node}, Score: {score}\")\n"
      ],
      "metadata": {
        "colab": {
          "base_uri": "https://localhost:8080/"
        },
        "id": "r-c2Q7GloMBJ",
        "outputId": "693b1b2b-cea2-4c06-f801-618efa816f5e"
      },
      "execution_count": 26,
      "outputs": [
        {
          "output_type": "stream",
          "name": "stdout",
          "text": [
            "Node: A, Score: 0.039532927187318566\n",
            "Node: B, Score: 0.016867548935169754\n",
            "Node: C, Score: 0.016096168018401382\n",
            "Node: D, Score: 0.012391180755601458\n",
            "Node: E, Score: 0.012694374124839359\n",
            "Node: F, Score: 0.009700537366813314\n",
            "Node: G, Score: 0.00906434691273077\n",
            "Node: H, Score: 0.007257364604012251\n",
            "Node: I, Score: 0.007002982751912853\n",
            "Node: J, Score: 0.02835645070893639\n",
            "Node: K, Score: 0.022599871633587152\n",
            "Node: L, Score: 0.02238131373275337\n",
            "Node: M, Score: 0.03337988898290179\n",
            "Node: N, Score: 0.029572495033050917\n",
            "Node: O, Score: 0.04455617960600051\n",
            "Node: P, Score: 0.07284838730869847\n",
            "Node: Q, Score: 0.047152783669046766\n",
            "Node: R, Score: 0.09042771903820938\n",
            "Node: S, Score: 0.07894705135958814\n",
            "Node: T, Score: 0.058970846324870436\n",
            "Node: U, Score: 0.04138305814375101\n",
            "Node: V, Score: 0.07540838585422689\n",
            "Node: W, Score: 0.0397439669606493\n",
            "Node: X, Score: 0.06757626862197127\n",
            "Node: Y, Score: 0.05139059678216056\n",
            "Node: Z, Score: 0.06469730558279814\n"
          ]
        }
      ]
    },
    {
      "cell_type": "markdown",
      "source": [
        "the pagerank() function is used to compute the PageRank scores. The input graph is represented as a list of tuples, where each tuple represents an edge from the source node to the target node.\n",
        "\n",
        "The function iteratively calculates the PageRank scores until convergence or the maximum number of iterations is reached. The outgoing links for each node are stored in the outgoing_links dictionary, and the PageRank scores are stored in the pagerank_scores dictionary.\n",
        "\n",
        "Finally, the PageRank scores are printed for each node in the graph."
      ],
      "metadata": {
        "id": "ezexF8zro059"
      }
    }
  ]
}